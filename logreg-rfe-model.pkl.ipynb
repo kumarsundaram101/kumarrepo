{
 "cells": [
  {
   "cell_type": "code",
   "execution_count": 1,
   "id": "e61b9d7f-5e01-49d6-9368-c98b52003812",
   "metadata": {},
   "outputs": [
    {
     "ename": "FileNotFoundError",
     "evalue": "[Errno 2] No such file or directory: 'logreg_rfe_model.pkl'",
     "output_type": "error",
     "traceback": [
      "\u001b[1;31m---------------------------------------------------------------------------\u001b[0m",
      "\u001b[1;31mFileNotFoundError\u001b[0m                         Traceback (most recent call last)",
      "Cell \u001b[1;32mIn[1], line 8\u001b[0m\n\u001b[0;32m      5\u001b[0m app \u001b[38;5;241m=\u001b[39m Flask(\u001b[38;5;18m__name__\u001b[39m)\n\u001b[0;32m      7\u001b[0m \u001b[38;5;66;03m# Load model\u001b[39;00m\n\u001b[1;32m----> 8\u001b[0m \u001b[38;5;28;01mwith\u001b[39;00m \u001b[38;5;28mopen\u001b[39m(\u001b[38;5;124m\"\u001b[39m\u001b[38;5;124mlogreg_rfe_model.pkl\u001b[39m\u001b[38;5;124m\"\u001b[39m, \u001b[38;5;124m\"\u001b[39m\u001b[38;5;124mrb\u001b[39m\u001b[38;5;124m\"\u001b[39m) \u001b[38;5;28;01mas\u001b[39;00m f:\n\u001b[0;32m      9\u001b[0m     model \u001b[38;5;241m=\u001b[39m pickle\u001b[38;5;241m.\u001b[39mload(f)\n\u001b[0;32m     11\u001b[0m \u001b[38;5;66;03m# Feature names as used in training\u001b[39;00m\n",
      "File \u001b[1;32m~\\anaconda3\\Lib\\site-packages\\IPython\\core\\interactiveshell.py:324\u001b[0m, in \u001b[0;36m_modified_open\u001b[1;34m(file, *args, **kwargs)\u001b[0m\n\u001b[0;32m    317\u001b[0m \u001b[38;5;28;01mif\u001b[39;00m file \u001b[38;5;129;01min\u001b[39;00m {\u001b[38;5;241m0\u001b[39m, \u001b[38;5;241m1\u001b[39m, \u001b[38;5;241m2\u001b[39m}:\n\u001b[0;32m    318\u001b[0m     \u001b[38;5;28;01mraise\u001b[39;00m \u001b[38;5;167;01mValueError\u001b[39;00m(\n\u001b[0;32m    319\u001b[0m         \u001b[38;5;124mf\u001b[39m\u001b[38;5;124m\"\u001b[39m\u001b[38;5;124mIPython won\u001b[39m\u001b[38;5;124m'\u001b[39m\u001b[38;5;124mt let you open fd=\u001b[39m\u001b[38;5;132;01m{\u001b[39;00mfile\u001b[38;5;132;01m}\u001b[39;00m\u001b[38;5;124m by default \u001b[39m\u001b[38;5;124m\"\u001b[39m\n\u001b[0;32m    320\u001b[0m         \u001b[38;5;124m\"\u001b[39m\u001b[38;5;124mas it is likely to crash IPython. If you know what you are doing, \u001b[39m\u001b[38;5;124m\"\u001b[39m\n\u001b[0;32m    321\u001b[0m         \u001b[38;5;124m\"\u001b[39m\u001b[38;5;124myou can use builtins\u001b[39m\u001b[38;5;124m'\u001b[39m\u001b[38;5;124m open.\u001b[39m\u001b[38;5;124m\"\u001b[39m\n\u001b[0;32m    322\u001b[0m     )\n\u001b[1;32m--> 324\u001b[0m \u001b[38;5;28;01mreturn\u001b[39;00m io_open(file, \u001b[38;5;241m*\u001b[39margs, \u001b[38;5;241m*\u001b[39m\u001b[38;5;241m*\u001b[39mkwargs)\n",
      "\u001b[1;31mFileNotFoundError\u001b[0m: [Errno 2] No such file or directory: 'logreg_rfe_model.pkl'"
     ]
    }
   ],
   "source": [
    "from flask import Flask, request, jsonify\n",
    "import pickle\n",
    "import pandas as pd\n",
    "\n",
    "app = Flask(__name__)\n",
    "\n",
    "# Load model\n",
    "with open(\"logreg_rfe_model.pkl\", \"rb\") as f:\n",
    "    model = pickle.load(f)\n",
    "\n",
    "# Feature names as used in training\n",
    "feature_names = ['const', 'GRE Score', 'University Rating', 'CGPA']\n",
    "\n",
    "def prepare_input(gre, rating, cgpa):\n",
    "    # Include intercept term\n",
    "    data = [[1.0, gre, rating, cgpa]]\n",
    "    return pd.DataFrame(data, columns=feature_names)\n",
    "\n",
    "\n",
    "@app.route(\"/predict\", methods=[\"POST\"])\n",
    "def predict():\n",
    "    # try:\n",
    "    gre = float(request.form[\"gre\"])\n",
    "    rating = float(request.form[\"rating\"])\n",
    "    cgpa = float(request.form[\"cgpa\"])\n",
    "    input_df = prepare_input(gre, rating, cgpa)\n",
    "    prob = model.predict(input_df)[0]\n",
    "    label = \"Admit\" if prob >= 0.6 else \"Reject\"\n",
    "    print(label)\n",
    "    return jsonify({\"label\": label, \"probability\": round(float(prob), 4)})\n",
    "    # except Exception as e:\n",
    "    #     return jsonify({\"error\": str(e)})\n",
    "\n",
    "if __name__ == \"__main__\":\n",
    "    app.run(debug=True,use_reloader=False)\n"
   ]
  },
  {
   "cell_type": "code",
   "execution_count": null,
   "id": "2313c15e-2b74-4a6d-a69c-fae28924858e",
   "metadata": {},
   "outputs": [],
   "source": [
    "import streamlit as st\n",
    "import pickle\n",
    "import pandas as pd\n",
    "\n",
    "# Load trained statsmodels model\n",
    "with open(\"logreg_rfe_model.pkl\", \"rb\") as f:\n",
    "    model = pickle.load(f)\n",
    "\n",
    "# Define feature names used in training\n",
    "feature_names = ['const', 'GRE Score', 'University Rating', 'CGPA']\n",
    "\n",
    "# Prepare input for prediction\n",
    "def prepare_input(gre, rating, cgpa):\n",
    "    data = [[1.0, gre, rating, cgpa]]\n",
    "    return pd.DataFrame(data, columns=feature_names)\n",
    "\n",
    "# Set up Streamlit UI\n",
    "st.title(\"📘 Admission Prediction App\")\n",
    "st.markdown(\"This app predicts whether a student will be **admitted** or **rejected** based on GRE Score, University Rating, and CGPA.\")\n",
    "\n",
    "# Input fields\n",
    "gre = st.number_input(\"GRE Score\", min_value=200, max_value=340, value=320)\n",
    "rating = st.selectbox(\"University Rating\", [1, 2, 3, 4, 5], index=3)\n",
    "cgpa = st.slider(\"CGPA\", min_value=0.0, max_value=10.0, step=0.1, value=8.5)\n",
    "\n",
    "# Predict button\n",
    "if st.button(\"Predict Admission\"):\n",
    "    input_df = prepare_input(gre, rating, cgpa)\n",
    "    prob = model.predict(input_df)[0]\n",
    "    label = \"Admit\" if prob >= 0.6 else \"Reject\"\n",
    "    \n",
    "    st.subheader(f\"🎯 Result: **{label}**\")\n",
    "    st.write(f\"📊 Probability of Admission: **{prob:.4f}**\")\n",
    "\n",
    "    if label == \"Admit\":\n",
    "        st.success(\"Congratulations! Based on the input, admission is likely.\")\n",
    "    else:\n",
    "        st.error(\"Unfortunately, admission is unlikely based on the input.\")\n"
   ]
  }
 ],
 "metadata": {
  "kernelspec": {
   "display_name": "Python 3 (ipykernel)",
   "language": "python",
   "name": "python3"
  },
  "language_info": {
   "codemirror_mode": {
    "name": "ipython",
    "version": 3
   },
   "file_extension": ".py",
   "mimetype": "text/x-python",
   "name": "python",
   "nbconvert_exporter": "python",
   "pygments_lexer": "ipython3",
   "version": "3.12.4"
  }
 },
 "nbformat": 4,
 "nbformat_minor": 5
}
